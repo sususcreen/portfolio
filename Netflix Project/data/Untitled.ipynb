{
 "cells": [
  {
   "cell_type": "code",
   "execution_count": 1,
   "id": "090c1a44",
   "metadata": {},
   "outputs": [],
   "source": [
    "import os\n",
    "import pandas as pd"
   ]
  },
  {
   "cell_type": "code",
   "execution_count": 4,
   "id": "c1852c4e",
   "metadata": {},
   "outputs": [],
   "source": [
    "##Loading the dataset with pandas"
   ]
  },
  {
   "cell_type": "code",
   "execution_count": 2,
   "id": "8ff43018",
   "metadata": {},
   "outputs": [],
   "source": [
    "data_path = os.path.join(os.path.dirname(os.getcwd()), \"data\", \"Netflix_Dataset.csv\")\n",
    "df = pd.read_csv(data_path)"
   ]
  },
  {
   "cell_type": "code",
   "execution_count": 5,
   "id": "88878be9",
   "metadata": {},
   "outputs": [],
   "source": [
    "##First look into the data"
   ]
  },
  {
   "cell_type": "code",
   "execution_count": 3,
   "id": "590dad45",
   "metadata": {},
   "outputs": [
    {
     "data": {
      "text/html": [
       "<div>\n",
       "<style scoped>\n",
       "    .dataframe tbody tr th:only-of-type {\n",
       "        vertical-align: middle;\n",
       "    }\n",
       "\n",
       "    .dataframe tbody tr th {\n",
       "        vertical-align: top;\n",
       "    }\n",
       "\n",
       "    .dataframe thead th {\n",
       "        text-align: right;\n",
       "    }\n",
       "</style>\n",
       "<table border=\"1\" class=\"dataframe\">\n",
       "  <thead>\n",
       "    <tr style=\"text-align: right;\">\n",
       "      <th></th>\n",
       "      <th>Show_Id</th>\n",
       "      <th>Category</th>\n",
       "      <th>Title</th>\n",
       "      <th>Director</th>\n",
       "      <th>Cast</th>\n",
       "      <th>Country</th>\n",
       "      <th>Release_Date</th>\n",
       "      <th>Rating</th>\n",
       "      <th>Duration</th>\n",
       "      <th>Type</th>\n",
       "      <th>Description</th>\n",
       "    </tr>\n",
       "  </thead>\n",
       "  <tbody>\n",
       "    <tr>\n",
       "      <th>0</th>\n",
       "      <td>s1</td>\n",
       "      <td>TV Show</td>\n",
       "      <td>3%</td>\n",
       "      <td>NaN</td>\n",
       "      <td>João Miguel, Bianca Comparato, Michel Gomes, R...</td>\n",
       "      <td>Brazil</td>\n",
       "      <td>August 14, 2020</td>\n",
       "      <td>TV-MA</td>\n",
       "      <td>4 Seasons</td>\n",
       "      <td>International TV Shows, TV Dramas, TV Sci-Fi &amp;...</td>\n",
       "      <td>In a future where the elite inhabit an island ...</td>\n",
       "    </tr>\n",
       "    <tr>\n",
       "      <th>1</th>\n",
       "      <td>s2</td>\n",
       "      <td>Movie</td>\n",
       "      <td>07:19</td>\n",
       "      <td>Jorge Michel Grau</td>\n",
       "      <td>Demián Bichir, Héctor Bonilla, Oscar Serrano, ...</td>\n",
       "      <td>Mexico</td>\n",
       "      <td>December 23, 2016</td>\n",
       "      <td>TV-MA</td>\n",
       "      <td>93 min</td>\n",
       "      <td>Dramas, International Movies</td>\n",
       "      <td>After a devastating earthquake hits Mexico Cit...</td>\n",
       "    </tr>\n",
       "    <tr>\n",
       "      <th>2</th>\n",
       "      <td>s3</td>\n",
       "      <td>Movie</td>\n",
       "      <td>23:59</td>\n",
       "      <td>Gilbert Chan</td>\n",
       "      <td>Tedd Chan, Stella Chung, Henley Hii, Lawrence ...</td>\n",
       "      <td>Singapore</td>\n",
       "      <td>December 20, 2018</td>\n",
       "      <td>R</td>\n",
       "      <td>78 min</td>\n",
       "      <td>Horror Movies, International Movies</td>\n",
       "      <td>When an army recruit is found dead, his fellow...</td>\n",
       "    </tr>\n",
       "    <tr>\n",
       "      <th>3</th>\n",
       "      <td>s4</td>\n",
       "      <td>Movie</td>\n",
       "      <td>9</td>\n",
       "      <td>Shane Acker</td>\n",
       "      <td>Elijah Wood, John C. Reilly, Jennifer Connelly...</td>\n",
       "      <td>United States</td>\n",
       "      <td>November 16, 2017</td>\n",
       "      <td>PG-13</td>\n",
       "      <td>80 min</td>\n",
       "      <td>Action &amp; Adventure, Independent Movies, Sci-Fi...</td>\n",
       "      <td>In a postapocalyptic world, rag-doll robots hi...</td>\n",
       "    </tr>\n",
       "    <tr>\n",
       "      <th>4</th>\n",
       "      <td>s5</td>\n",
       "      <td>Movie</td>\n",
       "      <td>21</td>\n",
       "      <td>Robert Luketic</td>\n",
       "      <td>Jim Sturgess, Kevin Spacey, Kate Bosworth, Aar...</td>\n",
       "      <td>United States</td>\n",
       "      <td>January 1, 2020</td>\n",
       "      <td>PG-13</td>\n",
       "      <td>123 min</td>\n",
       "      <td>Dramas</td>\n",
       "      <td>A brilliant group of students become card-coun...</td>\n",
       "    </tr>\n",
       "  </tbody>\n",
       "</table>\n",
       "</div>"
      ],
      "text/plain": [
       "  Show_Id Category  Title           Director  \\\n",
       "0      s1  TV Show     3%                NaN   \n",
       "1      s2    Movie  07:19  Jorge Michel Grau   \n",
       "2      s3    Movie  23:59       Gilbert Chan   \n",
       "3      s4    Movie      9        Shane Acker   \n",
       "4      s5    Movie     21     Robert Luketic   \n",
       "\n",
       "                                                Cast        Country  \\\n",
       "0  João Miguel, Bianca Comparato, Michel Gomes, R...         Brazil   \n",
       "1  Demián Bichir, Héctor Bonilla, Oscar Serrano, ...         Mexico   \n",
       "2  Tedd Chan, Stella Chung, Henley Hii, Lawrence ...      Singapore   \n",
       "3  Elijah Wood, John C. Reilly, Jennifer Connelly...  United States   \n",
       "4  Jim Sturgess, Kevin Spacey, Kate Bosworth, Aar...  United States   \n",
       "\n",
       "        Release_Date Rating   Duration  \\\n",
       "0    August 14, 2020  TV-MA  4 Seasons   \n",
       "1  December 23, 2016  TV-MA     93 min   \n",
       "2  December 20, 2018      R     78 min   \n",
       "3  November 16, 2017  PG-13     80 min   \n",
       "4    January 1, 2020  PG-13    123 min   \n",
       "\n",
       "                                                Type  \\\n",
       "0  International TV Shows, TV Dramas, TV Sci-Fi &...   \n",
       "1                       Dramas, International Movies   \n",
       "2                Horror Movies, International Movies   \n",
       "3  Action & Adventure, Independent Movies, Sci-Fi...   \n",
       "4                                             Dramas   \n",
       "\n",
       "                                         Description  \n",
       "0  In a future where the elite inhabit an island ...  \n",
       "1  After a devastating earthquake hits Mexico Cit...  \n",
       "2  When an army recruit is found dead, his fellow...  \n",
       "3  In a postapocalyptic world, rag-doll robots hi...  \n",
       "4  A brilliant group of students become card-coun...  "
      ]
     },
     "execution_count": 3,
     "metadata": {},
     "output_type": "execute_result"
    }
   ],
   "source": [
    "df.head()"
   ]
  },
  {
   "cell_type": "code",
   "execution_count": 6,
   "id": "21f83cf1",
   "metadata": {},
   "outputs": [
    {
     "data": {
      "text/plain": [
       "(7789, 11)"
      ]
     },
     "execution_count": 6,
     "metadata": {},
     "output_type": "execute_result"
    }
   ],
   "source": [
    "df.shape"
   ]
  },
  {
   "cell_type": "code",
   "execution_count": 11,
   "id": "177aea7a",
   "metadata": {},
   "outputs": [],
   "source": [
    "##Find Duplicates and drop"
   ]
  },
  {
   "cell_type": "code",
   "execution_count": 10,
   "id": "12928af8",
   "metadata": {},
   "outputs": [
    {
     "data": {
      "text/html": [
       "<div>\n",
       "<style scoped>\n",
       "    .dataframe tbody tr th:only-of-type {\n",
       "        vertical-align: middle;\n",
       "    }\n",
       "\n",
       "    .dataframe tbody tr th {\n",
       "        vertical-align: top;\n",
       "    }\n",
       "\n",
       "    .dataframe thead th {\n",
       "        text-align: right;\n",
       "    }\n",
       "</style>\n",
       "<table border=\"1\" class=\"dataframe\">\n",
       "  <thead>\n",
       "    <tr style=\"text-align: right;\">\n",
       "      <th></th>\n",
       "      <th>Show_Id</th>\n",
       "      <th>Category</th>\n",
       "      <th>Title</th>\n",
       "      <th>Director</th>\n",
       "      <th>Cast</th>\n",
       "      <th>Country</th>\n",
       "      <th>Release_Date</th>\n",
       "      <th>Rating</th>\n",
       "      <th>Duration</th>\n",
       "      <th>Type</th>\n",
       "      <th>Description</th>\n",
       "    </tr>\n",
       "  </thead>\n",
       "  <tbody>\n",
       "    <tr>\n",
       "      <th>6300</th>\n",
       "      <td>s684</td>\n",
       "      <td>Movie</td>\n",
       "      <td>Backfire</td>\n",
       "      <td>Dave Patten</td>\n",
       "      <td>Black Deniro, Byron \"Squally\" Vinson, Dominic ...</td>\n",
       "      <td>United States</td>\n",
       "      <td>April 5, 2019</td>\n",
       "      <td>TV-MA</td>\n",
       "      <td>97 min</td>\n",
       "      <td>Dramas, Independent Movies, Thrillers</td>\n",
       "      <td>When two would-be robbers accidentally kill a ...</td>\n",
       "    </tr>\n",
       "    <tr>\n",
       "      <th>6622</th>\n",
       "      <td>s6621</td>\n",
       "      <td>Movie</td>\n",
       "      <td>The Lost Okoroshi</td>\n",
       "      <td>Abba T. Makama</td>\n",
       "      <td>Seun Ajayi, Judith Audu, Tope Tedela, Ifu Enna...</td>\n",
       "      <td>Nigeria</td>\n",
       "      <td>September 4, 2020</td>\n",
       "      <td>TV-MA</td>\n",
       "      <td>94 min</td>\n",
       "      <td>Comedies, Dramas, Independent Movies</td>\n",
       "      <td>A disillusioned security guard transforms into...</td>\n",
       "    </tr>\n",
       "  </tbody>\n",
       "</table>\n",
       "</div>"
      ],
      "text/plain": [
       "     Show_Id Category              Title        Director  \\\n",
       "6300    s684    Movie           Backfire     Dave Patten   \n",
       "6622   s6621    Movie  The Lost Okoroshi  Abba T. Makama   \n",
       "\n",
       "                                                   Cast        Country  \\\n",
       "6300  Black Deniro, Byron \"Squally\" Vinson, Dominic ...  United States   \n",
       "6622  Seun Ajayi, Judith Audu, Tope Tedela, Ifu Enna...        Nigeria   \n",
       "\n",
       "           Release_Date Rating Duration  \\\n",
       "6300      April 5, 2019  TV-MA   97 min   \n",
       "6622  September 4, 2020  TV-MA   94 min   \n",
       "\n",
       "                                       Type  \\\n",
       "6300  Dramas, Independent Movies, Thrillers   \n",
       "6622   Comedies, Dramas, Independent Movies   \n",
       "\n",
       "                                            Description  \n",
       "6300  When two would-be robbers accidentally kill a ...  \n",
       "6622  A disillusioned security guard transforms into...  "
      ]
     },
     "execution_count": 10,
     "metadata": {},
     "output_type": "execute_result"
    }
   ],
   "source": [
    "df[df.duplicated()]"
   ]
  },
  {
   "cell_type": "code",
   "execution_count": 12,
   "id": "2e3d6fcb",
   "metadata": {},
   "outputs": [
    {
     "data": {
      "text/plain": [
       "(7787, 11)"
      ]
     },
     "execution_count": 12,
     "metadata": {},
     "output_type": "execute_result"
    }
   ],
   "source": [
    "df.drop_duplicates(inplace=True)\n",
    "df.shape"
   ]
  },
  {
   "cell_type": "code",
   "execution_count": 13,
   "id": "980d6339",
   "metadata": {},
   "outputs": [],
   "source": [
    "##Cleaning 1"
   ]
  },
  {
   "cell_type": "code",
   "execution_count": 14,
   "id": "cd42916b",
   "metadata": {},
   "outputs": [],
   "source": [
    "df['Date']= pd.to_datetime(df['Release_Date'])"
   ]
  },
  {
   "cell_type": "code",
   "execution_count": 15,
   "id": "43e07f31",
   "metadata": {},
   "outputs": [
    {
     "data": {
      "text/plain": [
       "2019    2153\n",
       "2020    2009\n",
       "2018    1685\n",
       "2017    1225\n",
       "2016     443\n",
       "2021     117\n",
       "2015      88\n",
       "2014      25\n",
       "2011      13\n",
       "2013      11\n",
       "2012       3\n",
       "2008       2\n",
       "2009       2\n",
       "2010       1\n",
       "Name: Year, dtype: int64"
      ]
     },
     "execution_count": 15,
     "metadata": {},
     "output_type": "execute_result"
    }
   ],
   "source": [
    "df['Date'].dt.year.value_counts()\n",
    "df['Year'] = df['Date'].dt.year\n",
    "df['Year'] = pd.to_numeric(df['Year'], errors='coerce')\n",
    "df['Year'].fillna(0, inplace=True)\n",
    "df['Year'] = df['Year'].astype(int)\n",
    "df = df[df['Year'] != 0]\n",
    "df['Year'].value_counts()"
   ]
  },
  {
   "cell_type": "code",
   "execution_count": 18,
   "id": "3fe76956",
   "metadata": {},
   "outputs": [],
   "source": [
    "df.drop(columns=['Date'], inplace=True)"
   ]
  },
  {
   "cell_type": "code",
   "execution_count": 19,
   "id": "c0b8831c",
   "metadata": {},
   "outputs": [],
   "source": [
    "#Quick check!"
   ]
  },
  {
   "cell_type": "code",
   "execution_count": 20,
   "id": "12430d55",
   "metadata": {},
   "outputs": [
    {
     "data": {
      "text/html": [
       "<div>\n",
       "<style scoped>\n",
       "    .dataframe tbody tr th:only-of-type {\n",
       "        vertical-align: middle;\n",
       "    }\n",
       "\n",
       "    .dataframe tbody tr th {\n",
       "        vertical-align: top;\n",
       "    }\n",
       "\n",
       "    .dataframe thead th {\n",
       "        text-align: right;\n",
       "    }\n",
       "</style>\n",
       "<table border=\"1\" class=\"dataframe\">\n",
       "  <thead>\n",
       "    <tr style=\"text-align: right;\">\n",
       "      <th></th>\n",
       "      <th>Show_Id</th>\n",
       "      <th>Category</th>\n",
       "      <th>Title</th>\n",
       "      <th>Director</th>\n",
       "      <th>Cast</th>\n",
       "      <th>Country</th>\n",
       "      <th>Release_Date</th>\n",
       "      <th>Rating</th>\n",
       "      <th>Duration</th>\n",
       "      <th>Type</th>\n",
       "      <th>Description</th>\n",
       "      <th>Year</th>\n",
       "    </tr>\n",
       "  </thead>\n",
       "  <tbody>\n",
       "    <tr>\n",
       "      <th>0</th>\n",
       "      <td>s1</td>\n",
       "      <td>TV Show</td>\n",
       "      <td>3%</td>\n",
       "      <td>NaN</td>\n",
       "      <td>João Miguel, Bianca Comparato, Michel Gomes, R...</td>\n",
       "      <td>Brazil</td>\n",
       "      <td>August 14, 2020</td>\n",
       "      <td>TV-MA</td>\n",
       "      <td>4 Seasons</td>\n",
       "      <td>International TV Shows, TV Dramas, TV Sci-Fi &amp;...</td>\n",
       "      <td>In a future where the elite inhabit an island ...</td>\n",
       "      <td>2020</td>\n",
       "    </tr>\n",
       "    <tr>\n",
       "      <th>1</th>\n",
       "      <td>s2</td>\n",
       "      <td>Movie</td>\n",
       "      <td>07:19</td>\n",
       "      <td>Jorge Michel Grau</td>\n",
       "      <td>Demián Bichir, Héctor Bonilla, Oscar Serrano, ...</td>\n",
       "      <td>Mexico</td>\n",
       "      <td>December 23, 2016</td>\n",
       "      <td>TV-MA</td>\n",
       "      <td>93 min</td>\n",
       "      <td>Dramas, International Movies</td>\n",
       "      <td>After a devastating earthquake hits Mexico Cit...</td>\n",
       "      <td>2016</td>\n",
       "    </tr>\n",
       "    <tr>\n",
       "      <th>2</th>\n",
       "      <td>s3</td>\n",
       "      <td>Movie</td>\n",
       "      <td>23:59</td>\n",
       "      <td>Gilbert Chan</td>\n",
       "      <td>Tedd Chan, Stella Chung, Henley Hii, Lawrence ...</td>\n",
       "      <td>Singapore</td>\n",
       "      <td>December 20, 2018</td>\n",
       "      <td>R</td>\n",
       "      <td>78 min</td>\n",
       "      <td>Horror Movies, International Movies</td>\n",
       "      <td>When an army recruit is found dead, his fellow...</td>\n",
       "      <td>2018</td>\n",
       "    </tr>\n",
       "    <tr>\n",
       "      <th>3</th>\n",
       "      <td>s4</td>\n",
       "      <td>Movie</td>\n",
       "      <td>9</td>\n",
       "      <td>Shane Acker</td>\n",
       "      <td>Elijah Wood, John C. Reilly, Jennifer Connelly...</td>\n",
       "      <td>United States</td>\n",
       "      <td>November 16, 2017</td>\n",
       "      <td>PG-13</td>\n",
       "      <td>80 min</td>\n",
       "      <td>Action &amp; Adventure, Independent Movies, Sci-Fi...</td>\n",
       "      <td>In a postapocalyptic world, rag-doll robots hi...</td>\n",
       "      <td>2017</td>\n",
       "    </tr>\n",
       "    <tr>\n",
       "      <th>4</th>\n",
       "      <td>s5</td>\n",
       "      <td>Movie</td>\n",
       "      <td>21</td>\n",
       "      <td>Robert Luketic</td>\n",
       "      <td>Jim Sturgess, Kevin Spacey, Kate Bosworth, Aar...</td>\n",
       "      <td>United States</td>\n",
       "      <td>January 1, 2020</td>\n",
       "      <td>PG-13</td>\n",
       "      <td>123 min</td>\n",
       "      <td>Dramas</td>\n",
       "      <td>A brilliant group of students become card-coun...</td>\n",
       "      <td>2020</td>\n",
       "    </tr>\n",
       "  </tbody>\n",
       "</table>\n",
       "</div>"
      ],
      "text/plain": [
       "  Show_Id Category  Title           Director  \\\n",
       "0      s1  TV Show     3%                NaN   \n",
       "1      s2    Movie  07:19  Jorge Michel Grau   \n",
       "2      s3    Movie  23:59       Gilbert Chan   \n",
       "3      s4    Movie      9        Shane Acker   \n",
       "4      s5    Movie     21     Robert Luketic   \n",
       "\n",
       "                                                Cast        Country  \\\n",
       "0  João Miguel, Bianca Comparato, Michel Gomes, R...         Brazil   \n",
       "1  Demián Bichir, Héctor Bonilla, Oscar Serrano, ...         Mexico   \n",
       "2  Tedd Chan, Stella Chung, Henley Hii, Lawrence ...      Singapore   \n",
       "3  Elijah Wood, John C. Reilly, Jennifer Connelly...  United States   \n",
       "4  Jim Sturgess, Kevin Spacey, Kate Bosworth, Aar...  United States   \n",
       "\n",
       "        Release_Date Rating   Duration  \\\n",
       "0    August 14, 2020  TV-MA  4 Seasons   \n",
       "1  December 23, 2016  TV-MA     93 min   \n",
       "2  December 20, 2018      R     78 min   \n",
       "3  November 16, 2017  PG-13     80 min   \n",
       "4    January 1, 2020  PG-13    123 min   \n",
       "\n",
       "                                                Type  \\\n",
       "0  International TV Shows, TV Dramas, TV Sci-Fi &...   \n",
       "1                       Dramas, International Movies   \n",
       "2                Horror Movies, International Movies   \n",
       "3  Action & Adventure, Independent Movies, Sci-Fi...   \n",
       "4                                             Dramas   \n",
       "\n",
       "                                         Description  Year  \n",
       "0  In a future where the elite inhabit an island ...  2020  \n",
       "1  After a devastating earthquake hits Mexico Cit...  2016  \n",
       "2  When an army recruit is found dead, his fellow...  2018  \n",
       "3  In a postapocalyptic world, rag-doll robots hi...  2017  \n",
       "4  A brilliant group of students become card-coun...  2020  "
      ]
     },
     "execution_count": 20,
     "metadata": {},
     "output_type": "execute_result"
    }
   ],
   "source": [
    "df.head()"
   ]
  },
  {
   "cell_type": "code",
   "execution_count": 21,
   "id": "ef88778a",
   "metadata": {},
   "outputs": [],
   "source": [
    "##Import seasborn for data visualization"
   ]
  },
  {
   "cell_type": "code",
   "execution_count": 22,
   "id": "e4d1565a",
   "metadata": {},
   "outputs": [],
   "source": [
    "import seaborn as sns"
   ]
  },
  {
   "cell_type": "code",
   "execution_count": 24,
   "id": "14373f85",
   "metadata": {},
   "outputs": [
    {
     "data": {
      "image/png": "[encoded data removed]",
      "text/plain": [
       "<Figure size 640x480 with 1 Axes>"
      ]
     },
     "metadata": {},
     "output_type": "display_data"
    }
   ],
   "source": [
    "df['Year'].value_counts().plot(kind='bar', color='#D2042D')\n",
    "\n",
    "#defining background color\n",
    "sns.set_style(rc = {'axes.facecolor': 'black'})"
   ]
  },
  {
   "cell_type": "code",
   "execution_count": 25,
   "id": "59eeac61",
   "metadata": {},
   "outputs": [
    {
     "data": {
      "text/plain": [
       "<Axes: xlabel='Category'>"
      ]
     },
     "execution_count": 25,
     "metadata": {},
     "output_type": "execute_result"
    },
    {
     "data": {
      "image/png": "[encoded data removed]",
      "text/plain": [
       "<Figure size 640x480 with 1 Axes>"
      ]
     },
     "metadata": {},
     "output_type": "display_data"
    }
   ],
   "source": [
    "df.groupby('Category').Category.count().plot(kind='bar', color='#D2042D')"
   ]
  },
  {
   "cell_type": "code",
   "execution_count": 26,
   "id": "a5d438e8",
   "metadata": {},
   "outputs": [],
   "source": [
    "##Cleaning 2"
   ]
  },
  {
   "cell_type": "code",
   "execution_count": 27,
   "id": "67263360",
   "metadata": {},
   "outputs": [],
   "source": [
    "countries= df['Country'].value_counts().sort_values(ascending=False)"
   ]
  },
  {
   "cell_type": "code",
   "execution_count": 31,
   "id": "57e75768",
   "metadata": {},
   "outputs": [
    {
     "data": {
      "text/plain": [
       "United States                                                   2549\n",
       "India                                                            923\n",
       "United Kingdom                                                   396\n",
       "Japan                                                            225\n",
       "South Korea                                                      183\n",
       "                                                                ... \n",
       "India, Pakistan                                                    1\n",
       "United Kingdom, Belgium                                            1\n",
       "United Kingdom, India, Sweden                                      1\n",
       "Lebanon, Qatar                                                     1\n",
       "Sweden, Czech Republic, United Kingdom, Denmark, Netherlands       1\n",
       "Name: Country, Length: 681, dtype: int64"
      ]
     },
     "execution_count": 31,
     "metadata": {},
     "output_type": "execute_result"
    }
   ],
   "source": [
    "countries"
   ]
  },
  {
   "cell_type": "code",
   "execution_count": 28,
   "id": "72220987",
   "metadata": {},
   "outputs": [
    {
     "data": {
      "text/plain": [
       "<Axes: >"
      ]
     },
     "execution_count": 28,
     "metadata": {},
     "output_type": "execute_result"
    },
    {
     "data": {
      "image/png": "[encoded data removed]",
      "text/plain": [
       "<Figure size 640x480 with 1 Axes>"
      ]
     },
     "metadata": {},
     "output_type": "display_data"
    }
   ],
   "source": [
    "countries.head(10).plot(kind='bar', color='#D2042D')"
   ]
  },
  {
   "cell_type": "code",
   "execution_count": 32,
   "id": "c65d02df",
   "metadata": {},
   "outputs": [
    {
     "data": {
      "text/plain": [
       "<Axes: >"
      ]
     },
     "execution_count": 32,
     "metadata": {},
     "output_type": "execute_result"
    },
    {
     "data": {
      "image/png": "[encoded data removed]",
      "text/plain": [
       "<Figure size 640x480 with 1 Axes>"
      ]
     },
     "metadata": {},
     "output_type": "display_data"
    }
   ],
   "source": [
    "directors= df['Director'].value_counts().head(10)\n",
    "directors.plot(kind='bar', color='#D2042D')"
   ]
  },
  {
   "cell_type": "code",
   "execution_count": 34,
   "id": "6089e7c4",
   "metadata": {},
   "outputs": [],
   "source": [
    "##Cleaning 3"
   ]
  },
  {
   "cell_type": "code",
   "execution_count": 35,
   "id": "ae205adf",
   "metadata": {},
   "outputs": [
    {
     "data": {
      "text/plain": [
       "['TV Comedies',\n",
       " 'Classic & Cult TV',\n",
       " 'Independent Movies',\n",
       " 'Docuseries',\n",
       " \"Kids' TV\",\n",
       " 'Stand-Up Comedy & Talk Shows',\n",
       " 'Teen TV Shows',\n",
       " 'Anime Features',\n",
       " 'Dramas',\n",
       " 'International Movies',\n",
       " 'Romantic Movies',\n",
       " 'LGBTQ Movies',\n",
       " 'TV Mysteries',\n",
       " 'Stand-Up Comedy',\n",
       " 'TV Horror',\n",
       " 'Music & Musicals',\n",
       " 'Anime Series',\n",
       " 'Action & Adventure',\n",
       " 'Korean TV Shows',\n",
       " 'TV Shows',\n",
       " 'Documentaries',\n",
       " 'TV Thrillers',\n",
       " 'Crime TV Shows',\n",
       " 'Cult Movies',\n",
       " 'Movies',\n",
       " 'British TV Shows',\n",
       " 'Science & Nature TV',\n",
       " 'TV Sci-Fi & Fantasy',\n",
       " 'Sports Movies',\n",
       " 'Faith & Spirituality',\n",
       " 'TV Action & Adventure',\n",
       " 'Classic Movies',\n",
       " 'Sci-Fi & Fantasy',\n",
       " 'Children & Family Movies',\n",
       " 'TV Dramas',\n",
       " 'Reality TV',\n",
       " 'Spanish-Language TV Shows',\n",
       " 'Romantic TV Shows',\n",
       " 'Horror Movies',\n",
       " 'Thrillers',\n",
       " 'International TV Shows',\n",
       " 'Comedies']"
      ]
     },
     "execution_count": 35,
     "metadata": {},
     "output_type": "execute_result"
    }
   ],
   "source": [
    "genre_list = [i for i in df['Type']]\n",
    "cleaned_list = [value.strip() for item in genre_list for value in item.split(',')]\n",
    "unique_list = list(set(cleaned_list))\n",
    "unique_list"
   ]
  },
  {
   "cell_type": "code",
   "execution_count": 36,
   "id": "4129360f",
   "metadata": {},
   "outputs": [
    {
     "data": {
      "text/plain": [
       "['',\n",
       " 'Afghanistan',\n",
       " 'Albania',\n",
       " 'Algeria',\n",
       " 'Angola',\n",
       " 'Argentina',\n",
       " 'Armenia',\n",
       " 'Australia',\n",
       " 'Austria',\n",
       " 'Azerbaijan',\n",
       " 'Bahamas',\n",
       " 'Bangladesh',\n",
       " 'Belarus',\n",
       " 'Belgium',\n",
       " 'Bermuda',\n",
       " 'Botswana',\n",
       " 'Brazil',\n",
       " 'Bulgaria',\n",
       " 'Cambodia',\n",
       " 'Canada',\n",
       " 'Cayman Islands',\n",
       " 'Chile',\n",
       " 'China',\n",
       " 'Colombia',\n",
       " 'Croatia',\n",
       " 'Cuba',\n",
       " 'Cyprus',\n",
       " 'Czech Republic',\n",
       " 'Denmark',\n",
       " 'Dominican Republic',\n",
       " 'East Germany',\n",
       " 'Ecuador',\n",
       " 'Egypt',\n",
       " 'Finland',\n",
       " 'France',\n",
       " 'Georgia',\n",
       " 'Germany',\n",
       " 'Ghana',\n",
       " 'Greece',\n",
       " 'Guatemala',\n",
       " 'Hong Kong',\n",
       " 'Hungary',\n",
       " 'Iceland',\n",
       " 'India',\n",
       " 'Indonesia',\n",
       " 'Iran',\n",
       " 'Iraq',\n",
       " 'Ireland',\n",
       " 'Israel',\n",
       " 'Italy',\n",
       " 'Jamaica',\n",
       " 'Japan',\n",
       " 'Jordan',\n",
       " 'Kazakhstan',\n",
       " 'Kenya',\n",
       " 'Kuwait',\n",
       " 'Latvia',\n",
       " 'Lebanon',\n",
       " 'Liechtenstein',\n",
       " 'Lithuania',\n",
       " 'Luxembourg',\n",
       " 'Malawi',\n",
       " 'Malaysia',\n",
       " 'Malta',\n",
       " 'Mauritius',\n",
       " 'Mexico',\n",
       " 'Mongolia',\n",
       " 'Montenegro',\n",
       " 'Morocco',\n",
       " 'Namibia',\n",
       " 'Nepal',\n",
       " 'Netherlands',\n",
       " 'New Zealand',\n",
       " 'Nicaragua',\n",
       " 'Nigeria',\n",
       " 'Norway',\n",
       " 'Pakistan',\n",
       " 'Panama',\n",
       " 'Paraguay',\n",
       " 'Peru',\n",
       " 'Philippines',\n",
       " 'Poland',\n",
       " 'Portugal',\n",
       " 'Puerto Rico',\n",
       " 'Qatar',\n",
       " 'Romania',\n",
       " 'Russia',\n",
       " 'Samoa',\n",
       " 'Saudi Arabia',\n",
       " 'Senegal',\n",
       " 'Serbia',\n",
       " 'Singapore',\n",
       " 'Slovakia',\n",
       " 'Slovenia',\n",
       " 'Somalia',\n",
       " 'South Africa',\n",
       " 'South Korea',\n",
       " 'Soviet Union',\n",
       " 'Spain',\n",
       " 'Sri Lanka',\n",
       " 'Sudan',\n",
       " 'Sweden',\n",
       " 'Switzerland',\n",
       " 'Syria',\n",
       " 'Taiwan',\n",
       " 'Thailand',\n",
       " 'Turkey',\n",
       " 'Uganda',\n",
       " 'Ukraine',\n",
       " 'United Arab Emirates',\n",
       " 'United Kingdom',\n",
       " 'United States',\n",
       " 'Uruguay',\n",
       " 'Vatican City',\n",
       " 'Venezuela',\n",
       " 'Vietnam',\n",
       " 'West Germany',\n",
       " 'Zimbabwe']"
      ]
     },
     "execution_count": 36,
     "metadata": {},
     "output_type": "execute_result"
    }
   ],
   "source": [
    "country_list = [i for i in df['Country']]\n",
    "cleaned_country = [value.strip() for item in country_list for value in str(item).split(',') if pd.notna(item)]\n",
    "unique_country = list(set(cleaned_country))\n",
    "unique_country.sort()\n",
    "unique_country"
   ]
  },
  {
   "cell_type": "code",
   "execution_count": 38,
   "id": "d464a7e3",
   "metadata": {},
   "outputs": [],
   "source": [
    "##Simple interactive table in dash app\n",
    "#Import the necessary libraries"
   ]
  },
  {
   "cell_type": "code",
   "execution_count": 40,
   "id": "45571643",
   "metadata": {},
   "outputs": [
    {
     "name": "stdout",
     "output_type": "stream",
     "text": [
      "Requirement already satisfied: pandas in c:\\users\\naipe\\anaconda3\\lib\\site-packages (1.5.3)\n",
      "Requirement already satisfied: dash in c:\\users\\naipe\\anaconda3\\lib\\site-packages (2.11.1)\n",
      "Requirement already satisfied: numpy>=1.21.0 in c:\\users\\naipe\\anaconda3\\lib\\site-packages (from pandas) (1.23.5)\n",
      "Requirement already satisfied: python-dateutil>=2.8.1 in c:\\users\\naipe\\anaconda3\\lib\\site-packages (from pandas) (2.8.2)\n",
      "Requirement already satisfied: pytz>=2020.1 in c:\\users\\naipe\\anaconda3\\lib\\site-packages (from pandas) (2022.7)\n",
      "Requirement already satisfied: requests in c:\\users\\naipe\\anaconda3\\lib\\site-packages (from dash) (2.31.0)\n",
      "Requirement already satisfied: nest-asyncio in c:\\users\\naipe\\anaconda3\\lib\\site-packages (from dash) (1.5.6)\n",
      "Requirement already satisfied: Flask<2.3.0,>=1.0.4 in c:\\users\\naipe\\anaconda3\\lib\\site-packages (from dash) (2.2.2)\n",
      "Requirement already satisfied: plotly>=5.0.0 in c:\\users\\naipe\\anaconda3\\lib\\site-packages (from dash) (5.3.1)\n",
      "Requirement already satisfied: typing-extensions>=4.1.1 in c:\\users\\naipe\\anaconda3\\lib\\site-packages (from dash) (4.4.0)\n",
      "Requirement already satisfied: dash-html-components==2.0.0 in c:\\users\\naipe\\anaconda3\\lib\\site-packages (from dash) (2.0.0)\n",
      "Requirement already satisfied: dash-table==5.0.0 in c:\\users\\naipe\\anaconda3\\lib\\site-packages (from dash) (5.0.0)\n",
      "Requirement already satisfied: Werkzeug<2.3.0 in c:\\users\\naipe\\anaconda3\\lib\\site-packages (from dash) (2.2.2)\n",
      "Requirement already satisfied: dash-core-components==2.0.0 in c:\\users\\naipe\\anaconda3\\lib\\site-packages (from dash) (2.0.0)\n",
      "Requirement already satisfied: retrying in c:\\users\\naipe\\anaconda3\\lib\\site-packages (from dash) (1.3.4)\n",
      "Requirement already satisfied: ansi2html in c:\\users\\naipe\\anaconda3\\lib\\site-packages (from dash) (1.8.0)\n",
      "Requirement already satisfied: click>=8.0 in c:\\users\\naipe\\anaconda3\\lib\\site-packages (from Flask<2.3.0,>=1.0.4->dash) (8.0.4)\n",
      "Requirement already satisfied: Jinja2>=3.0 in c:\\users\\naipe\\anaconda3\\lib\\site-packages (from Flask<2.3.0,>=1.0.4->dash) (3.1.2)\n",
      "Requirement already satisfied: itsdangerous>=2.0 in c:\\users\\naipe\\anaconda3\\lib\\site-packages (from Flask<2.3.0,>=1.0.4->dash) (2.0.1)\n",
      "Requirement already satisfied: tenacity>=6.2.0 in c:\\users\\naipe\\anaconda3\\lib\\site-packages (from plotly>=5.0.0->dash) (8.0.1)\n",
      "Requirement already satisfied: six in c:\\users\\naipe\\anaconda3\\lib\\site-packages (from plotly>=5.0.0->dash) (1.16.0)\n",
      "Requirement already satisfied: MarkupSafe>=2.1.1 in c:\\users\\naipe\\anaconda3\\lib\\site-packages (from Werkzeug<2.3.0->dash) (2.1.1)\n",
      "Requirement already satisfied: certifi>=2017.4.17 in c:\\users\\naipe\\anaconda3\\lib\\site-packages (from requests->dash) (2022.12.7)\n",
      "Requirement already satisfied: idna<4,>=2.5 in c:\\users\\naipe\\anaconda3\\lib\\site-packages (from requests->dash) (3.4)\n",
      "Requirement already satisfied: charset-normalizer<4,>=2 in c:\\users\\naipe\\anaconda3\\lib\\site-packages (from requests->dash) (2.0.4)\n",
      "Requirement already satisfied: urllib3<3,>=1.21.1 in c:\\users\\naipe\\anaconda3\\lib\\site-packages (from requests->dash) (1.26.14)\n",
      "Requirement already satisfied: colorama in c:\\users\\naipe\\anaconda3\\lib\\site-packages (from click>=8.0->Flask<2.3.0,>=1.0.4->dash) (0.4.6)\n"
     ]
    }
   ],
   "source": [
    "!pip install pandas dash\n",
    "import dash\n",
    "from dash import html\n",
    "from dash import dcc\n",
    "from dash.dependencies import Input, Output, State\n",
    "import plotly.graph_objects as go\n",
    "import plotly.express as px\n",
    "from dash import no_update\n",
    "from dash import dash_table\n",
    "from dash.dash_table.Format import Group"
   ]
  },
  {
   "cell_type": "code",
   "execution_count": 42,
   "id": "503daa06",
   "metadata": {},
   "outputs": [],
   "source": [
    "app = dash.Dash(__name__)\n",
    "app.config.suppress_callback_exceptions = True"
   ]
  },
  {
   "cell_type": "code",
   "execution_count": 43,
   "id": "c6dfde36",
   "metadata": {},
   "outputs": [],
   "source": [
    "year_list = [i for i in range(2010, 2020, 1)]\n",
    "\n",
    "\n",
    "@app.callback(\n",
    "    Output('table', 'data'),  \n",
    "    Input('input-country', 'value'),\n",
    "    Input('input-year', 'value'),\n",
    "    Input('input-category', 'value'),\n",
    "    Input('input-genre', 'value'),\n",
    ")\n",
    "def update_table(selected_country, selected_year, selected_category, selected_genre):\n",
    "    filtered_df = df.copy()  \n",
    "    \n",
    "    if selected_country:\n",
    "        filtered_df = filtered_df[filtered_df['Country'] == selected_country]\n",
    "    if selected_year:\n",
    "        filtered_df = filtered_df[filtered_df['Year'] == selected_year]\n",
    "    if selected_category:\n",
    "        filtered_df = filtered_df[filtered_df['Category'] == selected_category]\n",
    "    if selected_genre:\n",
    "        filtered_df = filtered_df[filtered_df['Type'].str.contains(selected_genre, case=False)]\n",
    "\n",
    "    if filtered_df.empty:\n",
    "        return []\n",
    "    else:\n",
    "        table_data = filtered_df.to_dict('records')\n",
    "        return table_data\n",
    "\n",
    "table = dash_table.DataTable(\n",
    "    id='table',\n",
    "    columns=[{'name': col, 'id': col} for col in df.columns],  \n",
    "    data=df.to_dict('records'),  \n",
    ")\n",
    "\n",
    "app.layout = html.Div(children=[\n",
    "        html.Link(href='https://fonts.googleapis.com/css?family=Bebas Neue', rel='stylesheet'),\n",
    "    html.H1('NETFLIX 2010-2019', style={'textAlign': 'center', 'color': '#D2042D', 'font-size': '40px', 'font-family':'Bebas Neue', 'margin-top':'3em'}),\n",
    "    html.Div([\n",
    "        html.Div([\n",
    "            html.H2('COUNTRY:', style={'margin-right': '2em', 'font-family':'Bebas Neue', 'color': '#D2042D'}),\n",
    "        ]),\n",
    "        dcc.Dropdown(\n",
    "            id='input-country', \n",
    "            options=[{'label': i, 'value': i} for i in unique_country], \n",
    "            placeholder='Select a country:', style={'width': '80%', 'padding': '3px', 'font-size': '20px', 'textAlign': 'center'},\n",
    "        )\n",
    "    ], style={'display': 'flex', 'justify-content': 'center', 'margin-bottom': '10px', 'background-color':'#080808'}),  \n",
    "    html.Div([\n",
    "        html.Div([\n",
    "            html.H2('YEAR:', style={'margin-right': '3em', 'font-family':'Bebas Neue', 'color': '#D2042D'}),\n",
    "        ]),\n",
    "        dcc.Dropdown(\n",
    "            id='input-year',\n",
    "            options=[{'label': i, 'value': i} for i in year_list],\n",
    "            placeholder='Select a year',\n",
    "            style={'width': '80%', 'padding': '4px', 'font-size': '20px', 'textAlign': 'center'},       \n",
    "        )\n",
    "    ], style={'display': 'flex', 'justify-content': 'center', 'margin-bottom': '10px', 'background-color':'#080808'}),\n",
    "    html.Div([\n",
    "        html.Div([\n",
    "            html.H2('CATEGORY:', style={'margin-right': '2em', 'color': '#D2042D', 'font-family':'Bebas Neue'})\n",
    "        ]),\n",
    "        dcc.Dropdown(\n",
    "            id='input-category',\n",
    "            options=[{'label': 'Movie', 'value': 'Movie'},\n",
    "                     {'label':'TV Show', 'value': 'TV Show'}],\n",
    "            placeholder='Select a category',\n",
    "            style={'width': '80%', 'padding': '1px', 'font-size': '20px', 'textAlign': 'center'},       \n",
    "        )\n",
    "    ], style={'display': 'flex', 'justify-content': 'center', 'margin-bottom': '10px', 'background-color':'#080808'}),\n",
    "    html.Div([\n",
    "        html.Div([\n",
    "            html.H2('GENRE:', style={'margin-right': '3em', 'font-family':'Bebas Neue', 'color': '#D2042D'})\n",
    "        ]),\n",
    "        dcc.Dropdown(\n",
    "            id='input-genre',\n",
    "            options=[{'label': i, 'value': i} for i in df['Type'].unique()],\n",
    "            placeholder='Select a genre',\n",
    "            style={'width': '80%', 'padding': '4px', 'font-size': '20px', 'textAlign': 'center'},       \n",
    "        )\n",
    "    ], style={'display': 'flex', 'justify-content': 'center', 'margin-bottom': '10px', 'background-color':'#080808'}),\n",
    "    dash_table.DataTable(\n",
    "        id='table',\n",
    "        columns=[{'name': col, 'id': col} for col in df.columns],  \n",
    "        data=df.to_dict('records'),  \n",
    "    ),\n",
    "], style={'background-color':'#080808'})"
   ]
  },
  {
   "cell_type": "code",
   "execution_count": 44,
   "id": "65e4adb1",
   "metadata": {},
   "outputs": [
    {
     "data": {
      "text/html": [
       "\n",
       "        <iframe\n",
       "            width=\"100%\"\n",
       "            height=\"650\"\n",
       "            src=\"http://127.0.0.1:8050/\"\n",
       "            frameborder=\"0\"\n",
       "            allowfullscreen\n",
       "            \n",
       "        ></iframe>\n",
       "        "
      ],
      "text/plain": [
       "<IPython.lib.display.IFrame at 0x18b254ceb30>"
      ]
     },
     "metadata": {},
     "output_type": "display_data"
    }
   ],
   "source": [
    "if __name__ == '__main__':\n",
    "    app.run_server(mode='inline')"
   ]
  },
  {
   "cell_type": "code",
   "execution_count": null,
   "id": "afe74a4d",
   "metadata": {},
   "outputs": [],
   "source": []
  }
 ],
 "metadata": {
  "kernelspec": {
   "display_name": "Python 3 (ipykernel)",
   "language": "python",
   "name": "python3"
  },
  "language_info": {
   "codemirror_mode": {
    "name": "ipython",
    "version": 3
   },
   "file_extension": ".py",
   "mimetype": "text/x-python",
   "name": "python",
   "nbconvert_exporter": "python",
   "pygments_lexer": "ipython3",
   "version": "3.10.9"
  }
 },
 "nbformat": 4,
 "nbformat_minor": 5
}
